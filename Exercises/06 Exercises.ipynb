{
 "cells": [
  {
   "cell_type": "markdown",
   "metadata": {
    "deletable": false,
    "editable": false,
    "nbgrader": {
     "grade": false,
     "grade_id": "cell-7b3313f25bceb7a2",
     "locked": true,
     "schema_version": 3,
     "solution": false
    }
   },
   "source": [
    "## Exercise 06.1 (selecting and passing data structures)\n",
    "\n",
    "The task in Exercise 04 for computing the area of a triangle involved a function with six arguments ($x$ and $y$ components of each vertex). With six arguments, the likelihood of a user passing arguments in the wrong order is high. \n",
    "\n",
    "Use an appropriate data structure, e.g. a `list`, `tuple`, `dict`, etc, to develop a new version of the function with an improved interface (the interface is the arguments that are passed to the function) with fewer arguments. Add appropriate checks inside your function on the input data."
   ]
  },
  {
   "cell_type": "code",
   "execution_count": 3,
   "metadata": {
    "nbgrader": {
     "grade": false,
     "grade_id": "cell-50c4566d7bcbffaf",
     "locked": false,
     "schema_version": 3,
     "solution": true
    },
    "tags": [
     "otter_answer_cell"
    ]
   },
   "outputs": [],
   "source": [
    "def area_triangle(vertices):\n",
    "    if not (isinstance(vertices, list) and len(vertices) == 3):\n",
    "        raise ValueError(\"Vertices must be a list of three co-ordinates\")\n",
    "\n",
    "    for v in vertices:\n",
    "        if not (isinstance(v, tuple) and len(v) == 2):\n",
    "            raise ValueError(\"Each vertex must be a tuple of length 2\")\n",
    "    x0, y0 = vertices[0]\n",
    "    x1, y1 = vertices[1]\n",
    "    x2, y2 = vertices[2]\n",
    "    \n",
    "    return abs((x0*(y1 - y2) + x1*(y2 - y0) + x2*(y0 - y1)) / 2)"
   ]
  },
  {
   "cell_type": "code",
   "execution_count": 4,
   "metadata": {},
   "outputs": [],
   "source": [
    "# testing\n",
    "\n",
    "test = [(0,0), (0,2), (3,0)]\n",
    "assert area_triangle(test) == 3.0 "
   ]
  },
  {
   "cell_type": "markdown",
   "metadata": {
    "deletable": false,
    "editable": false,
    "nbgrader": {
     "grade": false,
     "grade_id": "cell-5065052af9989fdf",
     "locked": true,
     "schema_version": 3,
     "solution": false
    }
   },
   "source": [
    "## Exercise 06.2 (selecting data structures)\n",
    "\n",
    "For a simple (non-intersecting) polygon with $n$ vertices, $(x_0, y_0)$, $(x_1, y_1)$, . . , $(x_{n-1}, y_{n-1})$, the area $A$ is given by\n",
    "$$\n",
    "A = \\left| \\frac{1}{2} \\sum_{i=0}^{n-1} \\left(x_{i} y _{i+1} - x_{i+1} y_{i} \\right) \\right|\n",
    "$$\n",
    "and where $(x_n, y_n) = (x_0, y_0)$. The vertices should be ordered as you move around the polygon.\n",
    "\n",
    "Write a function that, given only the vertex coordinates, computes the area of a simple polygon. Test your function for some simple shapes. Pay careful attention to the range of any loops. **Test for polygons without a vertex at the origin.**"
   ]
  },
  {
   "cell_type": "code",
   "execution_count": 5,
   "metadata": {
    "nbgrader": {
     "grade": false,
     "grade_id": "cell-4b5a619405787746",
     "locked": false,
     "schema_version": 3,
     "solution": true
    },
    "tags": [
     "otter_answer_cell"
    ]
   },
   "outputs": [],
   "source": [
    "def area_polygon(vertices):\n",
    "    n = len(vertices)\n",
    "    if n < 3:\n",
    "        raise ValueError(\"Polygon must have at least 3 vertices\")\n",
    "\n",
    "    A = 0\n",
    "    for i in range(n):\n",
    "        x_i, y_i = vertices[i]\n",
    "        if i == n-1:\n",
    "            i_next = 0\n",
    "        else:\n",
    "            i_next = i + 1\n",
    "        x_next, y_next = vertices[i_next]\n",
    "        A += (x_i * y_next - x_next * y_i)\n",
    "\n",
    "    return abs(A) / 2"
   ]
  },
  {
   "cell_type": "code",
   "execution_count": 6,
   "metadata": {},
   "outputs": [],
   "source": [
    "# testing\n",
    "\n",
    "square = [(1,1), (1,3), (4,3), (4,1)]\n",
    "assert area_polygon(square) == 6.0    #since 3x2 rectangle"
   ]
  },
  {
   "cell_type": "markdown",
   "metadata": {
    "deletable": false,
    "editable": false,
    "nbgrader": {
     "grade": false,
     "grade_id": "cell-ced99a38c7bbe7a0",
     "locked": true,
     "schema_version": 3,
     "solution": false
    }
   },
   "source": [
    "## Exercise 06.3 (indexing)\n",
    "\n",
    "Write a function that uses list indexing to add two vectors of arbitrary length, and returns the new vector. Include a check that the vector sizes match. Print a warning message if there is a size mismatch. The more error information you provide, the easier it would be for someone using your function to debug their code.\n",
    "\n",
    "Add some tests of your code.\n",
    "\n",
    "#### Hint: You can create a list of zeros of length `n` by\n",
    "\n",
    "    z = [0]*n"
   ]
  },
  {
   "cell_type": "code",
   "execution_count": 7,
   "metadata": {
    "nbgrader": {
     "grade": false,
     "grade_id": "cell-47daca03f7a96b62",
     "locked": false,
     "schema_version": 3,
     "solution": true
    },
    "tags": [
     "otter_answer_cell"
    ]
   },
   "outputs": [],
   "source": [
    "def sum_vector(x, y):\n",
    "    \"\"\"Return sum of two vectors\"\"\"\n",
    "    if len(x) != len(y):\n",
    "        raise ValueError(f\"Length mismatch, length of x is {len(x)} and length of y is {len(y)}\")\n",
    "    z = [0]*len(x)\n",
    "    for i in range(len(x)):\n",
    "        z[i] = x[i] + y[i]\n",
    "\n",
    "    return z"
   ]
  },
  {
   "cell_type": "code",
   "execution_count": 8,
   "metadata": {
    "deletable": false,
    "editable": false,
    "nbgrader": {
     "grade": true,
     "grade_id": "cell-95f5819810d2b2c7",
     "locked": true,
     "points": 0,
     "schema_version": 3,
     "solution": false
    }
   },
   "outputs": [],
   "source": [
    "# tests ##\n",
    "a = [0, 4.3, -5, 7]\n",
    "b = [-2, 7, -15, 1]\n",
    "c = sum_vector(a, b)\n",
    "assert c == [-2, 11.3, -20, 8]"
   ]
  },
  {
   "cell_type": "markdown",
   "metadata": {
    "deletable": false,
    "editable": false
   },
   "source": [
    "### Optional (advanced) \n",
    "\n",
    "Try writing a one-line version that performs the `sum_vector` operation using list comprehension and the built-in function [`zip`](https://docs.python.org/3/library/functions.html#zip)."
   ]
  },
  {
   "cell_type": "code",
   "execution_count": null,
   "metadata": {
    "nbgrader": {
     "grade": true,
     "grade_id": "cell-c182b3f0d8952692",
     "locked": false,
     "points": 0,
     "schema_version": 3,
     "solution": true
    },
    "tags": [
     "otter_answer_cell"
    ]
   },
   "outputs": [],
   "source": [
    "..."
   ]
  },
  {
   "cell_type": "markdown",
   "metadata": {
    "deletable": false,
    "editable": false
   },
   "source": [
    "## Exercise 06.4 (dictionaries)\n",
    "\n",
    "Create a dictionary that maps college names (the key) to college abbreviations for at least 5 colleges\n",
    "(you can find abbreviations at https://en.wikipedia.org/wiki/Colleges_of_the_University_of_Cambridge#Colleges).\n",
    "From the dictionary, produce and print\n",
    "\n",
    "1. A Python dictionary from college abbreviation to name; and\n",
    "1. A Python list of college abbreviations sorted into alphabetical order.\n",
    "\n",
    "*Optional extension:* Create a dictionary that maps college names (the key) to dictionaries of:\n",
    "\n",
    "- College abbreviation\n",
    "- Year of foundation \n",
    "- Total number students\n",
    " \n",
    "for at least 5 colleges. Take the data from https://en.wikipedia.org/wiki/Colleges_of_the_University_of_Cambridge#Colleges. Using this dictionary, \n",
    "\n",
    "1. Find the college with the greatest number of students and print the abbreviation; and \n",
    "2. Find the oldest college, and print the number of students and the abbreviation for this college."
   ]
  },
  {
   "cell_type": "code",
   "execution_count": 15,
   "metadata": {
    "nbgrader": {
     "grade": false,
     "grade_id": "cell-bc271dc3885e19c5",
     "locked": false,
     "schema_version": 3,
     "solution": true
    },
    "tags": [
     "otter_answer_cell"
    ]
   },
   "outputs": [
    {
     "name": "stdout",
     "output_type": "stream",
     "text": [
      "{'CTH': \"St Catharine's\", 'T': 'Trinity College', 'K': \"King's College\", 'JN': \"St John's College\", 'CHR': \"Christ's College\", 'Q': \"Queens' College\"}\n",
      "['CHR', 'CTH', 'JN', 'K', 'Q', 'T']\n"
     ]
    }
   ],
   "source": [
    "colleges = {\n",
    "    \"St Catharine's\": \"CTH\",\n",
    "    \"Trinity College\": \"T\",\n",
    "    \"King's College\": \"K\",\n",
    "    \"St John's College\": \"JN\",\n",
    "    \"Christ's College\": \"CHR\",\n",
    "    \"Queens' College\": \"Q\"\n",
    "}\n",
    "\n",
    "# abbreviation -> name\n",
    "abbr_to_name = {}\n",
    "for key, value in colleges.items():\n",
    "    abbr_to_name[value] = key\n",
    "\n",
    "print(abbr_to_name)\n",
    "\n",
    "sorted_list = []\n",
    "for key, value in colleges.items():\n",
    "    sorted_list.append(value)\n",
    "sorted_list.sort()\n",
    "\n",
    "\n",
    "print(sorted_list)\n",
    "    "
   ]
  },
  {
   "cell_type": "markdown",
   "metadata": {
    "deletable": false,
    "editable": false,
    "nbgrader": {
     "grade": false,
     "grade_id": "cell-45d2551a524193b0",
     "locked": true,
     "schema_version": 3,
     "solution": false
    }
   },
   "source": [
    "#### Optional extension"
   ]
  },
  {
   "cell_type": "code",
   "execution_count": null,
   "metadata": {
    "nbgrader": {
     "grade": false,
     "grade_id": "cell-7040c4053c72ce09",
     "locked": false,
     "schema_version": 3,
     "solution": true
    },
    "tags": [
     "otter_answer_cell"
    ]
   },
   "outputs": [],
   "source": [
    "..."
   ]
  }
 ],
 "metadata": {
  "celltoolbar": "Create Assignment",
  "kernelspec": {
   "display_name": "Python 3 (ipykernel)",
   "language": "python",
   "name": "python3"
  },
  "language_info": {
   "codemirror_mode": {
    "name": "ipython",
    "version": 3
   },
   "file_extension": ".py",
   "mimetype": "text/x-python",
   "name": "python",
   "nbconvert_exporter": "python",
   "pygments_lexer": "ipython3",
   "version": "3.12.3"
  },
  "otter": {
   "OK_FORMAT": true,
   "assignment_name": "Exercises 6",
   "tests": {}
  }
 },
 "nbformat": 4,
 "nbformat_minor": 4
}
