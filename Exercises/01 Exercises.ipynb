{
 "cells": [
  {
   "cell_type": "markdown",
   "metadata": {
    "deletable": false,
    "editable": false
   },
   "source": [
    "## Exercise 01.1\n",
    "\n",
    "Degrees Fahrenheit ($T_F$) are converted to degrees Celsius ($T_c$) using the formula:\n",
    "\n",
    "$$\n",
    "T_c = 5(T_f - 32)/9\n",
    "$$\n",
    "\n",
    "Write a program to convert 46 degrees Fahrenheit to degrees Celsius and print the result.\n",
    "Write your program such that you can easily change the temperature in Fahrenheit that you are converting from.\n",
    "\n",
    "Use the variable name `T_c` for the temperature in degrees Celsius."
   ]
  },
  {
   "cell_type": "code",
   "execution_count": 1,
   "metadata": {
    "nbgrader": {
     "grade": false,
     "grade_id": "cell-ca2d6af7fabf2918",
     "locked": false,
     "schema_version": 3,
     "solution": true
    },
    "tags": [
     "otter_answer_cell"
    ]
   },
   "outputs": [],
   "source": [
    "T_f = 46\n",
    "\n",
    "# Convert Fahrenheit to Celsius\n",
    "T_c = (T_f - 32) * 5 / 9"
   ]
  },
  {
   "cell_type": "code",
   "execution_count": 2,
   "metadata": {
    "deletable": false,
    "editable": false,
    "nbgrader": {
     "grade": true,
     "grade_id": "cell-a7542313c8cdf4ed",
     "locked": true,
     "points": 0,
     "schema_version": 3,
     "solution": false
    }
   },
   "outputs": [],
   "source": [
    "## test ##\n",
    "import math\n",
    "assert math.isclose(T_c, 7.77777777777777)"
   ]
  },
  {
   "cell_type": "markdown",
   "metadata": {
    "deletable": false,
    "editable": false
   },
   "source": [
    "## Exercise 01.2\n",
    "\n",
    "You have been tasked with developing a mortgage affordability test tool. A component is to compute the monthly \n",
    "interest payments for a range of scenarios.\n",
    "\n",
    "Interest on a particular mortgage is charged at fixed rate above the Bank of England (BoE) 'official Bank Rate'. \n",
    "Interest is computed per annum, and interest payments spread equally over each month of the year.\n",
    "Write a program that computes the interest payable each month, with variables for:\n",
    "\n",
    "1. Loan principal (amount borrowed, fixed)\n",
    "1. Official Bank Rate (percentage, expressed per annum)\n",
    "1. Rate over the official Bank Rate (percentage, expressed per annum)\n",
    "\n",
    "Test your program with a loan principal of £172,000, BoE rate of 2.25%, and rate over the \n",
    "BoE rate of 1.49%. Use the variable name `interest` for the monthly interest amount."
   ]
  },
  {
   "cell_type": "code",
   "execution_count": 3,
   "metadata": {
    "nbgrader": {
     "grade": false,
     "grade_id": "cell-aaab53918bb9627d",
     "locked": false,
     "schema_version": 3,
     "solution": true
    },
    "tags": [
     "otter_answer_cell"
    ]
   },
   "outputs": [],
   "source": [
    "# Assign data to variables\n",
    "principal = 172000\n",
    "\n",
    "boe_rate = 2.25                # Bank of England rate (% per annum)\n",
    "rate_over_boe = 1.49           # Additional rate above BoE rate (% per annum)\n",
    "\n",
    "# Compute total annual interest rate\n",
    "annual_interest_rate = boe_rate + rate_over_boe\n",
    "\n",
    "# Compute annual interest amount\n",
    "annual_interest = principal * (annual_interest_rate / 100)\n",
    "\n",
    "# Compute monthly interest (spread evenly over 12 months)\n",
    "interest = annual_interest / 12"
   ]
  },
  {
   "cell_type": "code",
   "execution_count": 4,
   "metadata": {
    "deletable": false,
    "editable": false,
    "nbgrader": {
     "grade": true,
     "grade_id": "cell-258e3a2c80f6a765",
     "locked": true,
     "points": 0,
     "schema_version": 3,
     "solution": false
    }
   },
   "outputs": [],
   "source": [
    "## test ##\n",
    "assert math.isclose(interest, 536.0666666666667)"
   ]
  }
 ],
 "metadata": {
  "celltoolbar": "Create Assignment",
  "kernelspec": {
   "display_name": "Python 3 (ipykernel)",
   "language": "python",
   "name": "python3"
  },
  "language_info": {
   "codemirror_mode": {
    "name": "ipython",
    "version": 3
   },
   "file_extension": ".py",
   "mimetype": "text/x-python",
   "name": "python",
   "nbconvert_exporter": "python",
   "pygments_lexer": "ipython3",
   "version": "3.12.3"
  },
  "otter": {
   "OK_FORMAT": true,
   "assignment_name": "Exercises 1",
   "tests": {}
  }
 },
 "nbformat": 4,
 "nbformat_minor": 4
}
