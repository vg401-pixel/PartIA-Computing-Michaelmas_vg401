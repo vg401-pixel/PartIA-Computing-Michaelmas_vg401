{
 "cells": [
  {
   "cell_type": "markdown",
   "metadata": {
    "deletable": false,
    "editable": false
   },
   "source": [
    "## Exercise 02.1 (if-else)\n",
    "\n",
    "Consider the following assessment criteria which map a score out of 100 to an \n",
    "assessment grade:\n",
    "\n",
    "| Grade            | Raw score  (/100)      |\n",
    "| ---------------- | ---------------------- |\n",
    "| Excellent        | $\\ge 85$               |\n",
    "| Very good        | $\\ge 76.5$ and $< 85$  |\n",
    "| Good             | $\\ge 64$ and $< 76.5$  |\n",
    "| Need improvement | $\\ge 40$ and $< 64$    |\n",
    "| Did you try?     | $< 40$                 |\n",
    "\n",
    "Write a program that, given an a score, prints the appropriate grade. Print an error message if the input score is greater than 100 or less than zero."
   ]
  },
  {
   "cell_type": "code",
   "execution_count": null,
   "metadata": {
    "nbgrader": {
     "grade": false,
     "grade_id": "cell-71121f470be22e4a",
     "locked": false,
     "schema_version": 3,
     "solution": true
    },
    "tags": [
     "otter_answer_cell"
    ]
   },
   "outputs": [],
   "source": [
    "# Score from user\n",
    "score = 72\n",
    "\n",
    "if score < 0 or score > 100:\n",
    "    print(\"Error: Score must be between 0 and 100.\")\n",
    "else:\n",
    "    # getting grade based on the score\n",
    "    if score >= 85:\n",
    "        print(\"Grade: Excellent\")\n",
    "    elif score >= 76.5:\n",
    "        print(\"Grade: Very good\")\n",
    "    elif score >= 64:\n",
    "        print(\"Grade: Good\")\n",
    "    elif score >= 40:\n",
    "        print(\"Grade: Need improvement\")\n",
    "    else:\n",
    "        print(\"Grade: Did you try?\")"
   ]
  },
  {
   "cell_type": "markdown",
   "metadata": {
    "deletable": false,
    "editable": false
   },
   "source": [
    "## Exercise 02.2 (bisection)\n",
    "\n",
    "Bisection is an iterative method for finding approximate roots of a function. Say we know that the function $f(x)$ has one root between $x_{0}$ and $x_{1}$ ($x_{0} < x_{1}$). We then:\n",
    "\n",
    "- Evaluate $f$ at the midpoint $x_{\\rm mid} = (x_0 + x_1)/2$, i.e. compute\n",
    "   $f_{\\rm mid} = f(x_{\\rm mid})$\n",
    "- Evaluate $f(x_0) \\cdot f(x_{\\rm mid})$\n",
    "\n",
    "  - if $f(x_0) \\cdot f(x_{\\rm mid}) < 0$: \n",
    "\n",
    "    $f$ must change sign somewhere between $x_0$ and $x_{\\rm mid}$, hence the root must lie between \n",
    "    $x_0$ and $x_{\\rm mid}$, so set $x_1 = x_{\\rm mid}$.\n",
    "   \n",
    "  - else:\n",
    "\n",
    "    $f$ must change sign somewhere between $x_{\\rm mid}$ and $x_1$, so set\n",
    "    $x_0 = x_{\\rm mid}$.\n",
    "\n",
    "The above steps can be repeated a specified number of times, or until $|f_{\\rm mid}|$\n",
    "is below a tolerance, with $x_{\\rm mid}$ being the approximate root.\n",
    "\n",
    "\n",
    "### Task\n",
    "\n",
    "The function\n",
    "\n",
    "$$\n",
    "f(x) = \\frac{x^{5}}{10} + x^3 - 10x^2 + 4x + 7\n",
    "$$\n",
    "\n",
    "\n",
    "has one root in the range $0 < x < 2$.\n",
    "\n",
    "1. Use the bisection method to find an approximate root $x_{r}$ using 20 iterations \n",
    "   (use a `for` loop).\n",
    "2. Use the bisection method to find an approximate root $x_{r}$ such that \n",
    "   $\\left| f(x_{r}) \\right| < 1 \\times 10^{-6}$ and report the number of iterations \n",
    "   required (use a `while` loop).\n",
    "\n",
    "Store the approximate root using the variable `x_mid`, and store $f(x_{\\rm mid})$ using the variable `f`.\n",
    "\n",
    "*Hint:* Use  `abs` to compute the absolute value of a number, e.g. `y = abs(x)` assigns the absolute value of `x` to `y`. "
   ]
  },
  {
   "cell_type": "markdown",
   "metadata": {
    "deletable": false,
    "editable": false
   },
   "source": [
    "#### (1) Using a `for` loop."
   ]
  },
  {
   "cell_type": "code",
   "execution_count": 2,
   "metadata": {
    "nbgrader": {
     "grade": false,
     "grade_id": "cell-3a0d0a59613d6b3f",
     "locked": false,
     "schema_version": 3,
     "solution": true
    },
    "tags": [
     "otter_answer_cell"
    ]
   },
   "outputs": [
    {
     "name": "stdout",
     "output_type": "stream",
     "text": [
      "0 1.0 2.0999999999999996\n",
      "1 1.5 -5.365625000000001\n",
      "2 1.25 -1.36669921875\n",
      "3 1.125 0.4477813720703132\n",
      "4 1.1875 -0.4408627510070797\n",
      "5 1.15625 0.008327355980872753\n",
      "6 1.171875 -0.21507753478363156\n",
      "7 1.1640625 -0.1030741602036862\n",
      "8 1.16015625 -0.04729774910292761\n",
      "9 1.158203125 -0.019466230897839054\n",
      "10 1.1572265625 -0.005564689502373099\n",
      "11 1.15673828125 0.0013825210451265946\n",
      "12 1.156982421875 -0.0020907873792292975\n",
      "13 1.1568603515625 -0.00035405894194262544\n",
      "14 1.15679931640625 0.0005142496094645566\n",
      "15 1.156829833984375 8.009997302949046e-05\n",
      "16 1.1568450927734375 -0.00013697832466341708\n",
      "17 1.1568374633789062 -2.8438885864900953e-05\n",
      "18 1.1568336486816406 2.5830616070976475e-05\n",
      "19 1.1568355560302734 -1.304116775457942e-06\n"
     ]
    }
   ],
   "source": [
    "# Initial end points\n",
    "x0 = 0.0\n",
    "x1 = 2.0\n",
    "\n",
    "# Use 20 iterations\n",
    "for n in range(20):\n",
    "    # Compute midpoint\n",
    "    x_mid = (x0 + x1) / 2\n",
    "\n",
    "    # Evaluate function at (i) left end-point and at (ii) midpoint\n",
    "    f0 = (x0**5) / 10 + x0**3 - 10 * x0**2 + 4 * x0 + 7\n",
    "    f = (x_mid**5) / 10 + x_mid**3 - 10 * x_mid**2 + 4 * x_mid + 7\n",
    "    \n",
    "     # checking sign\n",
    "    if f0 * f < 0:\n",
    "        x1 = x_mid\n",
    "    else:\n",
    "        x0 = x_mid\n",
    "\n",
    "    print(n, x_mid, f)"
   ]
  },
  {
   "cell_type": "code",
   "execution_count": 3,
   "metadata": {
    "deletable": false,
    "editable": false,
    "nbgrader": {
     "grade": true,
     "grade_id": "cell-421824bbd4e61fae",
     "locked": true,
     "points": 0,
     "schema_version": 3,
     "solution": false
    }
   },
   "outputs": [],
   "source": [
    "## tests ##\n",
    "import math\n",
    "assert math.isclose(x_mid, 1.1568355560302734)\n",
    "assert abs(f) < 1e-5"
   ]
  },
  {
   "cell_type": "markdown",
   "metadata": {
    "deletable": false,
    "editable": false
   },
   "source": [
    "#### (2) Using a `while` loop\n",
    "\n",
    "Use the variable `counter` for the iteration number. \n",
    "\n",
    "*Remember to guard against infinite loops.*"
   ]
  },
  {
   "cell_type": "code",
   "execution_count": 7,
   "metadata": {
    "nbgrader": {
     "grade": false,
     "grade_id": "cell-1747a3fb1dd1de48",
     "locked": false,
     "schema_version": 3,
     "solution": true
    },
    "tags": [
     "otter_answer_cell"
    ]
   },
   "outputs": [
    {
     "name": "stdout",
     "output_type": "stream",
     "text": [
      "1 1.0 2.0999999999999996\n",
      "2 1.5 5.365625000000001\n",
      "3 1.25 1.36669921875\n",
      "4 1.125 0.4477813720703132\n",
      "5 1.1875 0.4408627510070797\n",
      "6 1.15625 0.008327355980872753\n",
      "7 1.171875 0.21507753478363156\n",
      "8 1.1640625 0.1030741602036862\n",
      "9 1.16015625 0.04729774910292761\n",
      "10 1.158203125 0.019466230897839054\n",
      "11 1.1572265625 0.005564689502373099\n",
      "12 1.15673828125 0.0013825210451265946\n",
      "13 1.156982421875 0.0020907873792292975\n",
      "14 1.1568603515625 0.00035405894194262544\n",
      "15 1.15679931640625 0.0005142496094645566\n",
      "16 1.156829833984375 8.009997302949046e-05\n",
      "17 1.1568450927734375 0.00013697832466341708\n",
      "18 1.1568374633789062 2.8438885864900953e-05\n",
      "19 1.1568336486816406 2.5830616070976475e-05\n",
      "20 1.1568355560302734 1.304116775457942e-06\n",
      "21 1.156834602355957 1.2263254177469207e-05\n",
      "22 1.1568350791931152 5.479569834321296e-06\n",
      "23 1.1568353176116943 2.087726812760593e-06\n",
      "24 1.1568354368209839 3.9180508970559913e-07\n"
     ]
    }
   ],
   "source": [
    "# Initial end points\n",
    "x0 = 0.0\n",
    "x1 = 2.0\n",
    "\n",
    "tol = 1.0e-6\n",
    "error = tol + 1.0\n",
    "\n",
    "# Iterate until tolerance is met\n",
    "counter = 0\n",
    "while error > tol:\n",
    "    \n",
    "    x_mid = (x0 + x1) / 2\n",
    "\n",
    "    # Evaluate function at (i) left end-point and at (ii) midpoint\n",
    "    f0 = (x0**5) / 10 + x0**3 - 10 * x0**2 + 4 * x0 + 7\n",
    "    f = (x_mid**5) / 10 + x_mid**3 - 10 * x_mid**2 + 4 * x_mid + 7\n",
    "\n",
    "    # checking sign\n",
    "    if f0 * f < 0:\n",
    "        x1 = x_mid\n",
    "    else:\n",
    "        x0 = x_mid\n",
    "\n",
    "    # get error (absolute value of f at midpoint)\n",
    "    error = abs(f)\n",
    "    counter += 1\n",
    "\n",
    "    # Guard against an infinite loop\n",
    "    if counter > 1000:\n",
    "        print(\"Oops, iteration count is very large. Breaking out of while loop.\")\n",
    "        break\n",
    "    \n",
    "    print(counter, x_mid, error)"
   ]
  },
  {
   "cell_type": "code",
   "execution_count": 8,
   "metadata": {
    "nbgrader": {
     "grade": true,
     "grade_id": "cell-ddff32f44df88388",
     "locked": true,
     "points": 0,
     "schema_version": 3,
     "solution": false
    },
    "tags": [
     "otter_answer_cell"
    ]
   },
   "outputs": [],
   "source": [
    "## tests ##\n",
    "assert counter == 24\n",
    "assert abs(f) < 1.0e-6"
   ]
  },
  {
   "cell_type": "markdown",
   "metadata": {
    "deletable": false,
    "editable": false
   },
   "source": [
    "## Exercise 02.3 (series expansion)\n",
    "\n",
    "For $|x| < 1$ the series: \n",
    "\n",
    "$$\n",
    "(1 + x)^{-1/2} = \\sum_{n = 0}^{\\infty} \\frac{(-1)^n (2n)!}{4^n (n!)^2} x^n\n",
    "$$\n",
    "\n",
    "converges.\n",
    "\n",
    "1. Using a `for` statement, approximate $1/\\sqrt{0.16}$ using 30 terms in the series expansion and report the absolute error.\n",
    "\n",
    "1. Using a `while` statement, compute how many terms in the series are required to approximate $1/\\sqrt{0.16}$ to within $1 \\times 10^{-5}$. \n",
    "\n",
    "Store the absolute value of the error in the variable `error`.\n",
    "\n",
    "### Hints\n",
    "\n",
    "To compute the factorial, use the Python `math` module:\n",
    "```python\n",
    "import math\n",
    "nfact = math.factorial(10)\n",
    "```\n",
    "\n",
    "You only need `import math` once at the top of your program. Standard modules, like `math`, will be explained in a later\n",
    "\n",
    "<!-- The power series expansion for the sine function is: \n",
    "\n",
    "$$\n",
    "\\sin(x) = \\sum_{n = 0}^{\\infty} (-1)^n \\frac{x^{2n +1}}{(2n+1)!}\n",
    "$$\n",
    "\n",
    "(See mathematics data book for a less compact version; this compact version is preferred here as it is simpler to program.)\n",
    "\n",
    "1. Using a `for` statement, approximate $\\sin(3\\pi/2)$ using 15 terms in the series expansion and report the absolute error.\n",
    "\n",
    "1. Using a `while` statement, compute how many terms in the series are required to approximate $\\sin(3\\pi/2)$ to within $1 \\times 10^{-8}$. \n",
    "\n",
    "Store the absolute value of the error in the variable `error`.\n",
    "\n",
    "*Note:* Calculators and computers use iterative or series expansions to compute trigonometric functions, similar to the one above (although they use more efficient formulations than the above series).\n",
    "\n",
    "### Hints\n",
    "\n",
    "To compute the factorial and to get a good approximation of $\\pi$, use the Python `math` module:\n",
    "```python\n",
    "import math\n",
    "nfact = math.factorial(10)\n",
    "pi = math.pi\n",
    "```\n",
    "You only need '`import math`' once at the top of your program. Standard modules, like `math`, will be explained in a later. If you want to test for angles for which sine is not simple, you can use \n",
    "```python\n",
    "a = 1.3\n",
    "s = math.sin(a)\n",
    "```    \n",
    "to get an accurate computation of sine to check the error. -->"
   ]
  },
  {
   "cell_type": "markdown",
   "metadata": {
    "deletable": false,
    "editable": false
   },
   "source": [
    "#### (1) Using a `for` loop"
   ]
  },
  {
   "cell_type": "code",
   "execution_count": 9,
   "metadata": {
    "nbgrader": {
     "grade": false,
     "grade_id": "cell-d6df4b428f969a5d",
     "locked": false,
     "schema_version": 3,
     "solution": true
    },
    "tags": [
     "otter_answer_cell"
    ]
   },
   "outputs": [
    {
     "name": "stdout",
     "output_type": "stream",
     "text": [
      "The error is:\n",
      "0.0031921895736983785\n"
     ]
    }
   ],
   "source": [
    "# Import the math module to access math.factorial\n",
    "import math\n",
    "\n",
    "# Value of x (such that (1 + x) = 0.16  \n",
    "x = -0.84\n",
    "\n",
    "# Initialise approximation of the function\n",
    "approx_f = 0.0\n",
    "\n",
    "# Adding first 30 terms of series\n",
    "for n in range(30):\n",
    "    term = ((-1)**n) * math.factorial(2*n) / (4**n * (math.factorial(n)**2)) * (x**n)\n",
    "    approx_f += term\n",
    "\n",
    "true_value = 1 / math.sqrt(0.16)\n",
    "\n",
    "error = abs(approx_f - true_value)\n",
    "    \n",
    "print(\"The error is:\")\n",
    "print(error)"
   ]
  },
  {
   "cell_type": "code",
   "execution_count": 10,
   "metadata": {
    "deletable": false,
    "editable": false,
    "nbgrader": {
     "grade": true,
     "grade_id": "cell-8b269b717e92414d",
     "locked": true,
     "points": 0,
     "schema_version": 3,
     "solution": false
    }
   },
   "outputs": [],
   "source": [
    "## test ##\n",
    "assert error >= 0\n",
    "assert error < 1.0e-2"
   ]
  },
  {
   "cell_type": "markdown",
   "metadata": {
    "deletable": false,
    "editable": false
   },
   "source": [
    "#### (2) Using a `while` loop\n",
    "\n",
    "*Remember to guard against infinite loops.*"
   ]
  },
  {
   "cell_type": "code",
   "execution_count": 15,
   "metadata": {
    "nbgrader": {
     "grade": false,
     "grade_id": "cell-03df25d83df3674e",
     "locked": false,
     "schema_version": 3,
     "solution": true
    },
    "tags": [
     "otter_answer_cell"
    ]
   },
   "outputs": [
    {
     "name": "stdout",
     "output_type": "stream",
     "text": [
      "\n",
      "The error is: 8.689878570500298e-06\n",
      "Number of terms in series: 62\n"
     ]
    }
   ],
   "source": [
    "# Import the math module to access math.sin and math.factorial\n",
    "import math\n",
    "\n",
    "# Value of x (such that (1 - x) = 0.16)\n",
    "x = -0.84\n",
    "\n",
    "# Tolerance and initial error (this just needs to be larger than tol)\n",
    "tol = 1.0e-5\n",
    "error = tol + 1.0\n",
    "\n",
    "# Initialise approximation of function\n",
    "approx_f = 0.0\n",
    "true_value = 1 / math.sqrt(0.16)\n",
    "# Initialise counter\n",
    "n = 0\n",
    "\n",
    "# Loop until error satisfies tolerance, with a check to avoid \n",
    "# an infinite loop\n",
    "while error > tol and n < 1000:\n",
    "        \n",
    "    term = ((-1)**n) * math.factorial(2*n) / (4**n * (math.factorial(n)**2)) * (x**n)\n",
    "    approx_f += term\n",
    "    error = abs(approx_f - true_value)\n",
    "    # Increment counter\n",
    "    n += 1    \n",
    "    \n",
    "    \n",
    "print(\"\\nThe error is:\", error)\n",
    "print(\"Number of terms in series:\", n)"
   ]
  },
  {
   "cell_type": "code",
   "execution_count": 16,
   "metadata": {
    "deletable": false,
    "editable": false,
    "nbgrader": {
     "grade": true,
     "grade_id": "cell-03df25d83df3674dfwe",
     "locked": true,
     "points": 0,
     "schema_version": 3,
     "solution": false
    }
   },
   "outputs": [],
   "source": [
    "## test ##\n",
    "assert error >= 0\n",
    "assert error <= 1.0e-5"
   ]
  }
 ],
 "metadata": {
  "celltoolbar": "Create Assignment",
  "kernelspec": {
   "display_name": "Python 3 (ipykernel)",
   "language": "python",
   "name": "python3"
  },
  "language_info": {
   "codemirror_mode": {
    "name": "ipython",
    "version": 3
   },
   "file_extension": ".py",
   "mimetype": "text/x-python",
   "name": "python",
   "nbconvert_exporter": "python",
   "pygments_lexer": "ipython3",
   "version": "3.12.3"
  },
  "otter": {
   "OK_FORMAT": true,
   "assignment_name": "Exercises 2",
   "tests": {}
  }
 },
 "nbformat": 4,
 "nbformat_minor": 4
}
