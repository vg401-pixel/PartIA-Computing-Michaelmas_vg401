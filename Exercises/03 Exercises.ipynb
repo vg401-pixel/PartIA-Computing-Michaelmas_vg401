{
 "cells": [
  {
   "cell_type": "markdown",
   "metadata": {
    "deletable": false,
    "editable": false,
    "nbgrader": {
     "grade": false,
     "grade_id": "cell-bccc9a5624d0e0f9",
     "locked": true,
     "schema_version": 3,
     "solution": false
    }
   },
   "source": [
    "<!-- BEGIN QUESTION -->\n",
    "\n",
    "## Exercise 03.1\n",
    "\n",
    "Compare the computed values of \n",
    "\n",
    "$$ \n",
    "d_0 = a \\cdot b + a  \\cdot  c\n",
    "$$\n",
    "\n",
    "and \n",
    "\n",
    "$$ \n",
    "d_1 = a \\cdot (b + c)\n",
    "$$\n",
    "\n",
    "when $a = 100$, $b = 0.1$ and $c = 0.2$. Store $d_{0}$ in the variable `d0` and $d_{1}$ in the variable `d1`.\n",
    "\n",
    "\n",
    "Try checking for equality, e.g. `print(d0 == d1)`. "
   ]
  },
  {
   "cell_type": "code",
   "execution_count": 14,
   "metadata": {
    "nbgrader": {
     "grade": false,
     "grade_id": "cell-447110c225124fc4",
     "locked": false,
     "schema_version": 3,
     "solution": true
    },
    "tags": [
     "otter_answer_cell"
    ]
   },
   "outputs": [
    {
     "name": "stdout",
     "output_type": "stream",
     "text": [
      "30.0\n",
      "30.000000000000004\n",
      "False\n"
     ]
    }
   ],
   "source": [
    "a = 100\n",
    "b = 0.1\n",
    "c = 0.2\n",
    "\n",
    "d0 = a*b + a*c\n",
    "print(d0)\n",
    "\n",
    "d1 = a*(b+c)\n",
    "print(d1)\n",
    "\n",
    "print(d0 == d1)"
   ]
  },
  {
   "cell_type": "code",
   "execution_count": 15,
   "metadata": {
    "deletable": false,
    "editable": false,
    "nbgrader": {
     "grade": true,
     "grade_id": "cell-91f2d89d88ea86c0",
     "locked": true,
     "points": 0,
     "schema_version": 3,
     "solution": false
    }
   },
   "outputs": [],
   "source": [
    "## tests ##\n",
    "assert d0 == 30.0\n",
    "assert d1 != 30.0\n",
    "assert d0 != d1"
   ]
  },
  {
   "cell_type": "markdown",
   "metadata": {
    "deletable": false,
    "editable": false
   },
   "source": [
    "<!-- END QUESTION -->\n",
    "\n",
    "## Exercise 03.2\n",
    "\n",
    "For the polynomial \n",
    "\\begin{align}\n",
    "f(x, y) &= (x + y)^{6} \n",
    "\\\\\n",
    "&=  x^6 + 6x^{5}y + 15x^{4}y^{2} + 20x^{3}y^{3} + 15x^{2}y^{4} + 6xy^{5} + y^{6}\n",
    "\\end{align}\n",
    "compute $f$ using: (i) the compact form $(x + y)^{6}$; and (ii) the expanded form for:\n",
    "\n",
    "(a) $x = 10$ and $y = 10.1$\n",
    "\n",
    "(b) $x = 10$ and $y = -10.1$\n",
    "\n",
    "and compare the number of significant digits for which the answers are the same.\n",
    "Store the answer for the compact version using the variable `f0`, and using the variable `f1` for the expanded version.\n",
    "\n",
    "For case (b), compare the computed and analytical solutions and consider the relative error.\n",
    "Which approach would you recommend for computing this expression?"
   ]
  },
  {
   "cell_type": "markdown",
   "metadata": {
    "deletable": false,
    "editable": false
   },
   "source": [
    "#### (a) $x = 10$ and $y = 10.1$"
   ]
  },
  {
   "cell_type": "code",
   "execution_count": 16,
   "metadata": {
    "nbgrader": {
     "grade": false,
     "grade_id": "cell-e8428e3de87d5500",
     "locked": false,
     "schema_version": 3,
     "solution": true
    },
    "tags": [
     "otter_answer_cell"
    ]
   },
   "outputs": [],
   "source": [
    "x = 10.0\n",
    "y = 10.1\n",
    "\n",
    "f0 = (x + y) ** 6\n",
    "\n",
    "f1 = x ** 6 + 6 * (x ** 5) * y + 15 * (x ** 4) * (y**2) + 20 * (x ** 3) * (y ** 3) + 15 * (x ** 2) * (y ** 4) + 6 * x * (y ** 5) + (y ** 6)\n",
    "\n"
   ]
  },
  {
   "cell_type": "code",
   "execution_count": 17,
   "metadata": {
    "deletable": false,
    "editable": false,
    "nbgrader": {
     "grade": true,
     "grade_id": "cell-55d184514edf3a67",
     "locked": true,
     "points": 0,
     "schema_version": 3,
     "solution": false
    }
   },
   "outputs": [],
   "source": [
    "## tests ##\n",
    "import math\n",
    "assert math.isclose(f0, 65944160.60120103, rel_tol=1e-10)\n",
    "assert math.isclose(f1, 65944160.601201, rel_tol=1e-10)"
   ]
  },
  {
   "cell_type": "markdown",
   "metadata": {
    "deletable": false,
    "editable": false
   },
   "source": [
    "#### (b) $x = 10$ and $y = -10.1$"
   ]
  },
  {
   "cell_type": "code",
   "execution_count": 20,
   "metadata": {
    "nbgrader": {
     "grade": false,
     "grade_id": "cell-1561d20281ff67f6",
     "locked": false,
     "schema_version": 3,
     "solution": true
    },
    "tags": [
     "otter_answer_cell"
    ]
   },
   "outputs": [],
   "source": [
    "x = 10.0\n",
    "y = -10.1\n",
    "\n",
    "f0 = (x + y) ** 6\n",
    "\n",
    "f1 = x ** 6 + 6 * (x ** 5) * y + 15 * (x ** 4) * (y**2) + 20 * (x ** 3) * (y ** 3) + 15 * (x ** 2) * (y ** 4) + 6 * x * (y ** 5) + (y ** 6)\n",
    "\n",
    "#here we need to use compact form since near cancellation of 10 and 10.1 loses precision hence insignificant digits cause magnified error. "
   ]
  },
  {
   "cell_type": "code",
   "execution_count": 21,
   "metadata": {
    "deletable": false,
    "editable": false
   },
   "outputs": [],
   "source": [
    "## tests ##\n",
    "import math\n",
    "assert math.isclose(f0, 1.0e-6, rel_tol=1e-10)\n",
    "assert math.isclose(f1, 1.0e-6, rel_tol=1e-2)"
   ]
  },
  {
   "cell_type": "markdown",
   "metadata": {
    "deletable": false,
    "editable": false
   },
   "source": [
    "## Exercise 03.3\n",
    "\n",
    "Consider the expression\n",
    "\n",
    "$$\n",
    "f = \\frac{1}{\\sqrt{x^2 - 1} - x}\n",
    "$$\n",
    "\n",
    "When $x$ is very large, the denominator approaches zero, which can cause problems.\n",
    "\n",
    "Try rephrasing the problem and eliminating the fraction by multiplying the numerator and denominator by $\\sqrt{x^2 - 1} + x$ and evaluate the two versions of the expression when:\n",
    "\n",
    "(a) $x = 1 \\times 10^{7}$\n",
    "\n",
    "(b) $x = 1 \\times 10^{9}$ (You may get a Python error for this case. Why?)"
   ]
  },
  {
   "cell_type": "markdown",
   "metadata": {
    "deletable": false,
    "editable": false,
    "nbgrader": {
     "grade": false,
     "grade_id": "cell-53e1abf388eedabe",
     "locked": true,
     "schema_version": 3,
     "solution": false
    }
   },
   "source": [
    "#### (a) $x = 1 \\times 10^{7}$"
   ]
  },
  {
   "cell_type": "code",
   "execution_count": 27,
   "metadata": {
    "nbgrader": {
     "grade": true,
     "grade_id": "cell-149ac8791e7ff020",
     "locked": false,
     "points": 0,
     "schema_version": 3,
     "solution": true
    },
    "tags": [
     "otter_answer_cell"
    ]
   },
   "outputs": [
    {
     "name": "stdout",
     "output_type": "stream",
     "text": [
      "-19884107.85185185 -19999999.999999948\n"
     ]
    }
   ],
   "source": [
    "import math\n",
    "x = 1.0e7\n",
    "\n",
    "f_orig = 1.0 / (math.sqrt(x*x - 1.0) - x)\n",
    "\n",
    "f_modified = -(math.sqrt(x*x - 1.0) + x)\n",
    "\n",
    "print(f_orig, f_modified)"
   ]
  },
  {
   "cell_type": "markdown",
   "metadata": {
    "deletable": false,
    "editable": false,
    "nbgrader": {
     "grade": false,
     "grade_id": "cell-bcc863a1c5c8a6f8",
     "locked": true,
     "schema_version": 3,
     "solution": false
    }
   },
   "source": [
    "#### (b) $x = 1 \\times 10^{9}$"
   ]
  },
  {
   "cell_type": "code",
   "execution_count": 29,
   "metadata": {
    "nbgrader": {
     "grade": true,
     "grade_id": "cell-4ef986ef1f5838ba",
     "locked": false,
     "points": 0,
     "schema_version": 3,
     "solution": true
    },
    "tags": [
     "otter_answer_cell"
    ]
   },
   "outputs": [
    {
     "ename": "ZeroDivisionError",
     "evalue": "float division by zero",
     "output_type": "error",
     "traceback": [
      "\u001b[31m---------------------------------------------------------------------------\u001b[39m",
      "\u001b[31mZeroDivisionError\u001b[39m                         Traceback (most recent call last)",
      "\u001b[36mCell\u001b[39m\u001b[36m \u001b[39m\u001b[32mIn[29]\u001b[39m\u001b[32m, line 4\u001b[39m\n\u001b[32m      1\u001b[39m \u001b[38;5;28;01mimport\u001b[39;00m\u001b[38;5;250m \u001b[39m\u001b[34;01mmath\u001b[39;00m\n\u001b[32m      2\u001b[39m x = \u001b[32m1.0e9\u001b[39m\n\u001b[32m----> \u001b[39m\u001b[32m4\u001b[39m f_orig = \u001b[32;43m1.0\u001b[39;49m\u001b[43m \u001b[49m\u001b[43m/\u001b[49m\u001b[43m \u001b[49m\u001b[43m(\u001b[49m\u001b[43mmath\u001b[49m\u001b[43m.\u001b[49m\u001b[43msqrt\u001b[49m\u001b[43m(\u001b[49m\u001b[43mx\u001b[49m\u001b[43m*\u001b[49m\u001b[43mx\u001b[49m\u001b[43m \u001b[49m\u001b[43m-\u001b[49m\u001b[43m \u001b[49m\u001b[32;43m1.0\u001b[39;49m\u001b[43m)\u001b[49m\u001b[43m \u001b[49m\u001b[43m-\u001b[49m\u001b[43m \u001b[49m\u001b[43mx\u001b[49m\u001b[43m)\u001b[49m\n\u001b[32m      6\u001b[39m f_modified = -(math.sqrt(x*x - \u001b[32m1.0\u001b[39m) + x)\n\u001b[32m      8\u001b[39m \u001b[38;5;28mprint\u001b[39m(f_orig, f_modified)\n",
      "\u001b[31mZeroDivisionError\u001b[39m: float division by zero"
     ]
    }
   ],
   "source": [
    "import math\n",
    "x = 1.0e9\n",
    "\n",
    "f_orig = 1.0 / (math.sqrt(x*x - 1.0) - x)\n",
    "\n",
    "f_modified = -(math.sqrt(x*x - 1.0) + x)\n",
    "\n",
    "print(f_orig, f_modified)\n",
    "\n",
    "#Error occurs due to x being large enough to give ZeroDivisionError, since it not possible to divide by zero."
   ]
  }
 ],
 "metadata": {
  "celltoolbar": "Create Assignment",
  "kernelspec": {
   "display_name": "Python 3 (ipykernel)",
   "language": "python",
   "name": "python3"
  },
  "language_info": {
   "codemirror_mode": {
    "name": "ipython",
    "version": 3
   },
   "file_extension": ".py",
   "mimetype": "text/x-python",
   "name": "python",
   "nbconvert_exporter": "python",
   "pygments_lexer": "ipython3",
   "version": "3.12.3"
  },
  "otter": {
   "OK_FORMAT": true,
   "assignment_name": "Exercises 3",
   "tests": {}
  }
 },
 "nbformat": 4,
 "nbformat_minor": 4
}
